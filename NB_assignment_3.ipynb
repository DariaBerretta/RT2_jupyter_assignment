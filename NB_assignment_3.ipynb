{
 "cells": [
  {
   "cell_type": "code",
   "execution_count": 1,
   "id": "97775493",
   "metadata": {
    "ExecuteTime": {
     "end_time": "2022-05-01T13:09:20.427824Z",
     "start_time": "2022-05-01T13:09:19.234262Z"
    }
   },
   "outputs": [],
   "source": [
    "%matplotlib widget\n",
    "\n",
    "import matplotlib.pyplot as plt\n",
    "import rospy\n",
    "import tf\n",
    "from nav_msgs.msg import Odometry\n",
    "from tf.transformations import quaternion_matrix\n",
    "import numpy as np\n",
    "from matplotlib.animation import FuncAnimation\n",
    "from sensor_msgs.msg import LaserScan\n"
   ]
  },
  {
   "cell_type": "code",
   "execution_count": 2,
   "id": "393ab6ca",
   "metadata": {
    "ExecuteTime": {
     "end_time": "2022-05-01T13:09:21.289605Z",
     "start_time": "2022-05-01T13:09:20.434270Z"
    }
   },
   "outputs": [],
   "source": [
    "import ipywidgets as widgets\n",
    "import jupyros as jr\n",
    "import os\n",
    "from ipywidgets import *\n",
    "from IPython.display import *\n",
    "from std_msgs.msg import String\n",
    "from assignment_3.srv import *\n",
    "#from ipywidgets import Button, GridBox, Layout, ButtonStyle\n",
    "from geometry_msgs.msg import Twist, Vector3 #for cmd_vel topic\n",
    "from jupyros import ros3d\n",
    "\n",
    "reach_task = []"
   ]
  },
  {
   "cell_type": "code",
   "execution_count": 3,
   "id": "96dc455f",
   "metadata": {
    "ExecuteTime": {
     "end_time": "2022-05-01T13:09:21.516589Z",
     "start_time": "2022-05-01T13:09:21.294323Z"
    }
   },
   "outputs": [],
   "source": [
    "#all the wigets\n",
    "coo_x = widgets.FloatText(\n",
    "        value=0.0,\n",
    "        description='X coordinate:',\n",
    "        disabled=False\n",
    "    )\n",
    "\n",
    "coo_y = widgets.FloatText(\n",
    "    value=0.0,\n",
    "    description='Y coordinate:',\n",
    "    disabled=False\n",
    "    )\n",
    "\n",
    "button1 = widgets.Button(\n",
    "    description='Reach coordinate',\n",
    "    disabled=False,\n",
    "    )\n",
    "\n",
    "button2 = widgets.Button(\n",
    "    description='Drive robot',\n",
    "    disabled=False,\n",
    "    )\n",
    "\n",
    "button3 =  widgets.Button(\n",
    "    description='Start',\n",
    "    disabled=False,\n",
    "    )\n",
    "\n",
    "button4 = widgets.Button(\n",
    "    description='Undo',\n",
    "    disabled=False,\n",
    "    )\n",
    "\n",
    "buttonUP = widgets.Button(\n",
    "    #description='UP',\n",
    "    disabled=False,\n",
    "    icon='angle-up', # (FontAwesome names without the `fa-` prefix)\n",
    "    )\n",
    "\n",
    "buttonDOWN = widgets.Button(\n",
    "    #description='DOWN',\n",
    "    disabled=False,\n",
    "    icon='angle-down' # (FontAwesome names without the `fa-` prefix)\n",
    "    )\n",
    "\n",
    "buttonRIGHT = widgets.Button(\n",
    "    #description='RIGHT',\n",
    "    disabled=False,\n",
    "    icon='angle-right' # (FontAwesome names without the `fa-` prefix)\n",
    "    )\n",
    "\n",
    "buttonLEFT = widgets.Button(\n",
    "    #description='LEFT',\n",
    "    disabled=False,\n",
    "    icon='angle-left' # (FontAwesome names without the `fa-` prefix)\n",
    "    )\n",
    "\n",
    "buttonPAUSE = widgets.Button(\n",
    "    #description='PAUSE',\n",
    "    disabled=False,\n",
    "    icon='pause' # (FontAwesome names without the `fa-` prefix)\n",
    "    )\n",
    "\n",
    "buttonUPLEFT = widgets.Button(\n",
    "    description='UPLEFT',\n",
    "    disabled=False,\n",
    "    )\n",
    "\n",
    "buttonDOWNLEFT = widgets.Button(\n",
    "    description='DOWNLEFT',\n",
    "    disabled=False,\n",
    "    )\n",
    "\n",
    "buttonUPRIGHT = widgets.Button(\n",
    "    description='UPRIGHT',\n",
    "    disabled=False,\n",
    "    )\n",
    "\n",
    "buttonDOWNRIGHT = widgets.Button(\n",
    "    description='DOWNRIGHT',\n",
    "    disabled=False,\n",
    "    )\n",
    "\n",
    "selection = widgets.SelectionSlider(\n",
    "    options=['off', 'on'],\n",
    "    value='off',\n",
    "    description='Need some help',\n",
    "    disabled=False,\n",
    "    continuous_update=False,\n",
    "    orientation='horizontal',\n",
    "    readout=True,\n",
    "    style = {'description_width': 'initial'}\n",
    "    )\n",
    "\n",
    "ghost = widgets.Label(\n",
    "    value=\"\"\n",
    "    )\n",
    "\n",
    "box_arrow = widgets.HBox(\n",
    "    [widgets.VBox([buttonUPLEFT, buttonLEFT, buttonDOWNLEFT]),\n",
    "     widgets.VBox([buttonUP, buttonPAUSE, buttonDOWN]),\n",
    "     widgets.VBox([buttonUPRIGHT, buttonRIGHT, buttonDOWNRIGHT])]\n",
    "    )\n",
    "\n",
    "box_menu = widgets.HBox(\n",
    "    [widgets.VBox([box_arrow]),\n",
    "     widgets.VBox([ghost,ghost, ghost]),\n",
    "     widgets.VBox([selection, ghost, button4])]\n",
    "    )\n"
   ]
  },
  {
   "cell_type": "code",
   "execution_count": 4,
   "id": "4a34133f",
   "metadata": {
    "ExecuteTime": {
     "end_time": "2022-05-01T13:09:21.533761Z",
     "start_time": "2022-05-01T13:09:21.525433Z"
    }
   },
   "outputs": [],
   "source": [
    "def on_value_change_selection(change):\n",
    "    #print(\"here\")\n",
    "    if selection.value == \"on\":\n",
    "        optn = 1\n",
    "    else:\n",
    "        optn = 0\n",
    "        \n",
    "    rospy.set_param(\"/selection_param\", optn)"
   ]
  },
  {
   "cell_type": "code",
   "execution_count": 5,
   "id": "37d27db4",
   "metadata": {
    "ExecuteTime": {
     "end_time": "2022-05-01T13:09:21.551377Z",
     "start_time": "2022-05-01T13:09:21.539120Z"
    }
   },
   "outputs": [],
   "source": [
    "def set_cmd_vel(drc):\n",
    "    v_init = Vector3(0,0,0)\n",
    "    vel = Twist(v_init,v_init)\n",
    "    \n",
    "    const = 0.5\n",
    "    \n",
    "    if drc == 1:\n",
    "        vel.linear.x = const\n",
    "        vel.angular.z = const\n",
    "    elif drc == 2:\n",
    "        vel.linear.x = const\n",
    "    elif drc == 3:\n",
    "        vel.linear.x = const\n",
    "        vel.angular.z = -const\n",
    "    elif drc == 4:\n",
    "        vel.angular.z = const\n",
    "    elif drc == 6:\n",
    "        vel.angular.z = -const\n",
    "    elif drc == 7:\n",
    "        vel.linear.x = -const\n",
    "        vel.angular.z = const\n",
    "    elif drc == 8:\n",
    "        vel.linear.x = -const\n",
    "    elif drc == 9:\n",
    "        vel.linear.x = -const\n",
    "        vel.angular.z = -const\n",
    "        \n",
    "    #print(\"here\")\n",
    "        \n",
    "    pub = rospy.Publisher('/remap_cmd_vel', Twist, queue_size=10)\n",
    "    pub.publish(vel)\n",
    "      "
   ]
  },
  {
   "cell_type": "code",
   "execution_count": 6,
   "id": "808b49ca",
   "metadata": {
    "ExecuteTime": {
     "end_time": "2022-05-01T13:09:21.575331Z",
     "start_time": "2022-05-01T13:09:21.558547Z"
    }
   },
   "outputs": [],
   "source": [
    "def bu(bu):\n",
    "    set_cmd_vel(2)\n",
    "\n",
    "def bul(bul):\n",
    "    set_cmd_vel(1)\n",
    "    \n",
    "def bur(bur):\n",
    "    set_cmd_vel(3)\n",
    "    \n",
    "def bd(bd):\n",
    "    set_cmd_vel(8)\n",
    "\n",
    "def bdl(bdl):\n",
    "    set_cmd_vel(7)\n",
    "    \n",
    "def bdr(bdr):\n",
    "    set_cmd_vel(9)\n",
    "    \n",
    "def bl(bl):\n",
    "    set_cmd_vel(4)\n",
    "    \n",
    "def br(br):\n",
    "    set_cmd_vel(6)\n",
    "\n",
    "def bp(bp):\n",
    "    set_cmd_vel(5)"
   ]
  },
  {
   "cell_type": "code",
   "execution_count": 7,
   "id": "ec2fa534",
   "metadata": {
    "ExecuteTime": {
     "end_time": "2022-05-01T13:09:21.589827Z",
     "start_time": "2022-05-01T13:09:21.580045Z"
    }
   },
   "outputs": [],
   "source": [
    "def display_map():\n",
    "    \n",
    "    v = ros3d.Viewer()\n",
    "    rc = ros3d.ROSConnection(url=\"ws://localhost:9090\")\n",
    "    tf_client = ros3d.TFClient(ros=rc, fixed_frame='map')\n",
    "    laser_view = ros3d.LaserScan(topic=\"/scan\", ros=rc, tf_client=tf_client)\n",
    "    map_view = ros3d.OccupancyGrid(topic=\"/map\", ros=rc, tf_client=tf_client, continuous=True)\n",
    "    path = ros3d.Path(topic=\"/move_base/NavfnROS/plan\", ros=rc,\n",
    "    tf_client=tf_client)\n",
    "    urdf = ros3d.URDFModel(ros=rc, tf_client=tf_client,\n",
    "    path=os.environ.get('JUPYROS_ASSETS_URL', 'http://localhost:3000'))\n",
    "    g = ros3d.GridModel()\n",
    "    #v.objects = [g, laser_view, map_view, path, urdf]\n",
    "    v.objects = [laser_view, map_view, urdf]\n",
    "    \n",
    "    display(v)"
   ]
  },
  {
   "cell_type": "code",
   "execution_count": 8,
   "id": "1d2f2c97",
   "metadata": {
    "ExecuteTime": {
     "end_time": "2022-05-01T13:09:21.605141Z",
     "start_time": "2022-05-01T13:09:21.596092Z"
    }
   },
   "outputs": [],
   "source": [
    "def drive_interface():\n",
    "    #print(\"here\")\n",
    "\n",
    "    display(box_menu)\n",
    "    display_map()\n",
    "    \n",
    "    #undo botton\n",
    "    button4.on_click(obc_4)\n",
    "    \n",
    "    buttonUP.on_click(bu)\n",
    "    buttonUPLEFT.on_click(bul)\n",
    "    buttonUPRIGHT.on_click(bur)\n",
    "    buttonDOWN.on_click(bd)\n",
    "    buttonDOWNLEFT.on_click(bdl)\n",
    "    buttonDOWNRIGHT.on_click(bdr)\n",
    "    buttonLEFT.on_click(bl)\n",
    "    buttonRIGHT.on_click(br)\n",
    "    buttonPAUSE.on_click(bp)\n",
    "    "
   ]
  },
  {
   "cell_type": "code",
   "execution_count": 9,
   "id": "02d5d49a",
   "metadata": {
    "ExecuteTime": {
     "end_time": "2022-05-01T13:09:21.625330Z",
     "start_time": "2022-05-01T13:09:21.611092Z"
    }
   },
   "outputs": [],
   "source": [
    "def obc_3(obc):\n",
    "    global reach_task\n",
    "    \n",
    "    button3.disabled=True\n",
    "    rospy.wait_for_service(\"/reachCoordinateService\")\n",
    "    client = rospy.ServiceProxy(\"/reachCoordinateService\", reachCoordinateService)\n",
    "    #store and interpretation of the return\n",
    "    rt = client(coo_x.value,coo_y.value)\n",
    "    if rt.ret == 0:\n",
    "        reach_task.append(\"not reached\")\n",
    "        print(\"Target not reached, goal cancelled\")\n",
    "    elif rt.ret == 1:\n",
    "        reach_task.append(\"reached\")\n",
    "        print(\"Target reached!\")\n",
    "        \n",
    "def obc_4(obc):\n",
    "    clear_output()\n",
    "    button2.disabled=False\n",
    "    button1.disabled=False\n",
    "    button3.disabled=False\n",
    "    display(button1,button2)\n"
   ]
  },
  {
   "cell_type": "code",
   "execution_count": 10,
   "id": "7821c569",
   "metadata": {
    "ExecuteTime": {
     "end_time": "2022-05-01T13:09:21.647903Z",
     "start_time": "2022-05-01T13:09:21.633160Z"
    }
   },
   "outputs": [],
   "source": [
    "def obc_1(obc):\n",
    "    #print(\"Button1 clicked.\")\n",
    "    \n",
    "    #Disable the button so the user can't reclick it again\n",
    "    button1.disabled=True\n",
    "    button2.disabled=True\n",
    "    \n",
    "    display(coo_x,coo_y)\n",
    "    #display_map()\n",
    "    \n",
    "    display(button3,button4)\n",
    "    \n",
    "    button3.on_click(obc_3)\n",
    "    button4.on_click(obc_4)\n",
    "    \n",
    "\n",
    "def obc_2(obc):\n",
    "    #print(\"Button2 clicked.\")\n",
    "    \n",
    "    #Disable the button so the user can't reclick it again\n",
    "    button2.disabled=True\n",
    "    button1.disabled=True\n",
    "    drive_interface()"
   ]
  },
  {
   "cell_type": "code",
   "execution_count": 11,
   "id": "af713120",
   "metadata": {
    "ExecuteTime": {
     "end_time": "2022-05-01T13:09:21.868857Z",
     "start_time": "2022-05-01T13:09:21.652353Z"
    },
    "scrolled": false
   },
   "outputs": [
    {
     "name": "stdout",
     "output_type": "stream",
     "text": [
      "What do you want to do?\n"
     ]
    },
    {
     "data": {
      "application/vnd.jupyter.widget-view+json": {
       "model_id": "d23db1c45df54f968c21ad067d2f4364",
       "version_major": 2,
       "version_minor": 0
      },
      "text/plain": [
       "Button(description='Reach coordinate', style=ButtonStyle())"
      ]
     },
     "metadata": {},
     "output_type": "display_data"
    },
    {
     "data": {
      "application/vnd.jupyter.widget-view+json": {
       "model_id": "8a7081bf83574e22a738fccfe0e65ae4",
       "version_major": 2,
       "version_minor": 0
      },
      "text/plain": [
       "Button(description='Drive robot', style=ButtonStyle())"
      ]
     },
     "metadata": {},
     "output_type": "display_data"
    },
    {
     "data": {
      "application/vnd.jupyter.widget-view+json": {
       "model_id": "6abf5725abf4423b87ae483ee745c9e5",
       "version_major": 2,
       "version_minor": 0
      },
      "text/plain": [
       "HBox(children=(VBox(children=(HBox(children=(VBox(children=(Button(description='UPLEFT', style=ButtonStyle()),…"
      ]
     },
     "metadata": {},
     "output_type": "display_data"
    },
    {
     "data": {
      "application/vnd.jupyter.widget-view+json": {
       "model_id": "cd153804a1d14e9cb44ccc4ad8fd8d00",
       "version_major": 2,
       "version_minor": 0
      },
      "text/plain": [
       "Viewer(objects=[LaserScan(ros=ROSConnection(url='ws://localhost:9090'), tf_client=TFClient(fixed_frame='map', …"
      ]
     },
     "metadata": {},
     "output_type": "display_data"
    }
   ],
   "source": [
    "class Visualiser:\n",
    "    \n",
    "    counter = 250\n",
    "    \n",
    "    def __init__(self):\n",
    "        self.fig, self.ax = plt.subplots()\n",
    "        self.ln, = plt.plot([], [], 'r.')\n",
    "        plt.xlabel('x coordinate')\n",
    "        plt.ylabel('y coordinate')\n",
    "        plt.title('Path of the robot')\n",
    "        self.x_data, self.y_data = [] , []\n",
    "        \n",
    "    def plot_init(self):\n",
    "        self.ax.set_xlim(-10, 10)\n",
    "        self.ax.set_ylim(-10, 10)\n",
    "        return self.ln\n",
    "    \n",
    "    def odom_callback(self, msg):\n",
    "       \n",
    "        self.counter= self.counter -1\n",
    "    \n",
    "        if self.counter == 0:\n",
    "            if len(self.y_data) < 10000:\n",
    "                self.y_data.append(msg.pose.pose.position.y)\n",
    "                self.x_data.append(msg.pose.pose.position.x)\n",
    "            else:\n",
    "                self.y_data.pop(0)\n",
    "                self.x_data.pop(0)\n",
    "                self.y_data.append(msg.pose.pose.position.y)\n",
    "                self.x_data.append(msg.pose.pose.position.x)\n",
    "            self.counter = 250\n",
    "            \n",
    "    def update_plot(self, frame):\n",
    "        self.ln.set_data(self.x_data, self.y_data)\n",
    "        return self.ln\n",
    "    \n",
    "class VisualiserScan:\n",
    "    \n",
    "    def __init__(self):\n",
    "        self.fig, self.ax = plt.subplots(subplot_kw={'projection': 'polar'})\n",
    "        self.ln, = plt.plot([], [], 'r.')\n",
    "        plt.title('Visualization of the scanner')\n",
    "        self.theta_data = np.arange(0, np.pi, np.pi/720)\n",
    "        self.d_data = []\n",
    "        \n",
    "    def plot_init(self):\n",
    "        self.ax.set_rmax(15)\n",
    "        return self.ln\n",
    "    \n",
    "    def laser_callback(self, msg):\n",
    "        self.d_data = msg.ranges\n",
    "        \n",
    "    def update_plot(self, frame):\n",
    "        self.ln.set_data(self.theta_data, self.d_data)\n",
    "        return self.ln\n",
    "\n",
    "rospy.init_node('jn_user_interaction')\n",
    "print(\"What do you want to do?\")\n",
    "    \n",
    "display(button1,button2)\n",
    "\n",
    "button1.on_click(obc_1)\n",
    "button2.on_click(obc_2)\n"
   ]
  },
  {
   "cell_type": "code",
   "execution_count": 12,
   "id": "9b8a557d",
   "metadata": {
    "ExecuteTime": {
     "end_time": "2022-05-01T13:09:21.974118Z",
     "start_time": "2022-05-01T13:09:21.876028Z"
    }
   },
   "outputs": [
    {
     "data": {
      "application/vnd.jupyter.widget-view+json": {
       "model_id": "b59bfce7ef0241deac43181145fca050",
       "version_major": 2,
       "version_minor": 0
      },
      "text/plain": [
       "Canvas(toolbar=Toolbar(toolitems=[('Home', 'Reset original view', 'home', 'home'), ('Back', 'Back to previous …"
      ]
     },
     "metadata": {},
     "output_type": "display_data"
    }
   ],
   "source": [
    "vis = Visualiser()\n",
    "sub = rospy.Subscriber('/odom', Odometry, vis.odom_callback)\n",
    "ani = FuncAnimation(vis.fig, vis.update_plot, init_func=vis.plot_init)\n",
    "plt.show(block=True)"
   ]
  },
  {
   "cell_type": "code",
   "execution_count": 13,
   "id": "1dae7ea8",
   "metadata": {
    "ExecuteTime": {
     "end_time": "2022-05-01T13:09:22.174086Z",
     "start_time": "2022-05-01T13:09:21.979902Z"
    }
   },
   "outputs": [
    {
     "data": {
      "application/vnd.jupyter.widget-view+json": {
       "model_id": "dea93a6cd358478daa521e6ce58e83e6",
       "version_major": 2,
       "version_minor": 0
      },
      "text/plain": [
       "Canvas(toolbar=Toolbar(toolitems=[('Home', 'Reset original view', 'home', 'home'), ('Back', 'Back to previous …"
      ]
     },
     "metadata": {},
     "output_type": "display_data"
    }
   ],
   "source": [
    "vis2 = VisualiserScan()\n",
    "sub2 = rospy.Subscriber('/scan', LaserScan , vis2.laser_callback)\n",
    "ani2 = FuncAnimation(vis2.fig, vis2.update_plot, init_func=vis2.plot_init)\n",
    "plt.show(block=True)"
   ]
  },
  {
   "cell_type": "code",
   "execution_count": 14,
   "id": "bc0a44bb",
   "metadata": {
    "ExecuteTime": {
     "end_time": "2022-05-01T13:09:22.361941Z",
     "start_time": "2022-05-01T13:09:22.180249Z"
    }
   },
   "outputs": [
    {
     "data": {
      "application/vnd.jupyter.widget-view+json": {
       "model_id": "2f9c040c16314740a77711dc5ac6d441",
       "version_major": 2,
       "version_minor": 0
      },
      "text/plain": [
       "Canvas(toolbar=Toolbar(toolitems=[('Home', 'Reset original view', 'home', 'home'), ('Back', 'Back to previous …"
      ]
     },
     "metadata": {},
     "output_type": "display_data"
    }
   ],
   "source": [
    "fig, ax = plt.subplots()\n",
    "_, _, ln, = ax.hist([])\n",
    "\n",
    "def init():\n",
    "    plt.ylabel('# of goal')\n",
    "    plt.title('Reached and NON-reached targets')\n",
    "    return ln,\n",
    "\n",
    "def update(frame):\n",
    "    ax.hist(reach_task,bins=10,color='green')\n",
    "    return ln,\n",
    "\n",
    "ani3 = FuncAnimation(fig, update, init_func=init, blit=False)\n",
    "plt.show()"
   ]
  },
  {
   "cell_type": "code",
   "execution_count": null,
   "id": "e3127228",
   "metadata": {},
   "outputs": [],
   "source": []
  }
 ],
 "metadata": {
  "hide_input": false,
  "kernelspec": {
   "display_name": "Python 3 (ipykernel)",
   "language": "python",
   "name": "python3"
  },
  "language_info": {
   "codemirror_mode": {
    "name": "ipython",
    "version": 3
   },
   "file_extension": ".py",
   "mimetype": "text/x-python",
   "name": "python",
   "nbconvert_exporter": "python",
   "pygments_lexer": "ipython3",
   "version": "3.8.5"
  },
  "toc": {
   "base_numbering": 1,
   "nav_menu": {},
   "number_sections": true,
   "sideBar": true,
   "skip_h1_title": false,
   "title_cell": "Table of Contents",
   "title_sidebar": "Contents",
   "toc_cell": false,
   "toc_position": {},
   "toc_section_display": true,
   "toc_window_display": false
  },
  "varInspector": {
   "cols": {
    "lenName": 16,
    "lenType": 16,
    "lenVar": 40
   },
   "kernels_config": {
    "python": {
     "delete_cmd_postfix": "",
     "delete_cmd_prefix": "del ",
     "library": "var_list.py",
     "varRefreshCmd": "print(var_dic_list())"
    },
    "r": {
     "delete_cmd_postfix": ") ",
     "delete_cmd_prefix": "rm(",
     "library": "var_list.r",
     "varRefreshCmd": "cat(var_dic_list()) "
    }
   },
   "oldHeight": 419.85,
   "position": {
    "height": "453.85px",
    "left": "36px",
    "right": "20px",
    "top": "125px",
    "width": "331px"
   },
   "types_to_exclude": [
    "module",
    "function",
    "builtin_function_or_method",
    "instance",
    "_Feature"
   ],
   "varInspector_section_display": "block",
   "window_display": false
  }
 },
 "nbformat": 4,
 "nbformat_minor": 5
}
